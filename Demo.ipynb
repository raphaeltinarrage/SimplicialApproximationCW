{
 "cells": [
  {
   "cell_type": "markdown",
   "metadata": {},
   "source": [
    "# Simplicial approximation to CW complexes in practice: demo"
   ]
  },
  {
   "cell_type": "markdown",
   "metadata": {},
   "source": [
    "Raphaël Tinarrage, https://raphaeltinarrage.github.io/ <br/>\n",
    "September 2022\n",
    "\n",
    "This page describes the implementation and use of the algorithm described in our paper *Simplicial approximation to CW complexes in practice* https://arxiv.org/abs/2112.07573\n",
    "\n",
    "The code can be found at https://github.com/raphaeltinarrage/SimplicialApproximationCW"
   ]
  },
  {
   "cell_type": "markdown",
   "metadata": {},
   "source": [
    "## Background \n",
    "\n",
    "The algorithm presented in this notebook has been designed to answer the following problem: given a CW complex, build a homotopy equivalent simplicial complex. It is an implementation of ideas already well-known in the literature.\n",
    "\n",
    "Roughly speaking, a CW complex is a topological space obtained by iteratively gluing closed balls along their boundary. An example is given in the following figure: the sphere $\\mathbb{S}^2$ can be obtained from a point, by gluing the two ends of an interval, so as to obtain a circle, and then gluing two disks on it, along their boundary. This gives a filtration of $\\mathbb{S}^2$ by four sets, denoted $X_0 \\subset X_1 \\subset X_2 \\subset X_3 = \\mathbb{S}^2$. The set $X_i$ is called the $i^\\mathrm{th}$ skeleton.\n",
    "\n",
    "<img src=\"Fig1.png\" width=800 height=700 />\n",
    "\n",
    "In this context, the balls are called *cells*. If $\\bar{\\mathcal{B}}^d$ denotes a closed ball of dimension $d$, then its boundary is the $(d-1)$-sphere $\\mathbb{S}^{d-1}$, and the gluing of $\\bar{\\mathcal{B}}^d$ on $X$ is specified by a map $\\phi\\colon \\mathbb{S}^{d-1} \\rightarrow X$, called a *gluing map*. The input of our algorithm will be the collection of the gluing maps.\n",
    "\n",
    "Following the method described in our paper, we will build inductively simplicial complexes $K_0, \\dots, K_3$, and for each of them a homotopy equivalence $h_i\\colon X_i \\rightarrow |K_i|$, where $|K_i|$ denote the geometric realization of $K_i$.\n",
    "As it turns out, $K_{i}$ can be described as $\\mathrm{Cone}^\\mathrm{s}(\\phi_{i}')$, the *simplicial mapping cone* of $\\phi_{i}'$, where $\\phi_{i}'$ is a simplicial map derived from the gluing map $\\phi_{i}$.\n",
    "The following figure represents this process.\n",
    "\n",
    "<img src=\"Fig2.png\" width=800 height=700 />"
   ]
  },
  {
   "cell_type": "markdown",
   "metadata": {},
   "source": [
    "## Sketch of algorithm\n",
    "\n",
    "We suppose that the input CW complex is given as a list **Cells = [Cells[0], Cells[1], $\\dots$]**.\n",
    "The data structure **Cells[i]** contains all the information relative to the $i^\\mathrm{th}$ cell: \n",
    "- its dimension **Cells[i].Dimension**,\n",
    "- its domain **Cells[i].Domain**,\n",
    "- its gluing map **Cells[i].GluingMap**,\n",
    "- its inverse characteristic map **Cells[i].InvCharacteristicMap**.\n",
    "\n",
    "The algorithm builds a sequence of simplicial complexes **Skeleta[0]**, **Skeleta[1]**, ... as follows:\n",
    "- We start with **Skeleta[0]**, a complex consisting of only one point.\n",
    "- From **Skeleta[i-1]**, we glue the $i^\\mathrm{th}$ cell as follows: \n",
    "    - we build a triangulation of the sphere, denoted **Sphere**,\n",
    "    - we subdivise this sphere until the gluing map **Cells[i].GluingMap** satisfies the weak star condition,\n",
    "    - we consider a weak simplicial approximation to the gluing map.\n",
    "- We then build a triangulation of the ball, denoted **Ball**, and glue it to **Skeleta[i-1]**, via the weak simplicial approximation. This gives **Skeleta[i]**.\n",
    "\n",
    "In order to perform the subdivision process, one method has to be choosen among:\n",
    "- barycentric subdivisions,\n",
    "- edgewise subdivisions,\n",
    "- Delaunay barycentric subdivisions or\n",
    "- Delaunay edgewise subdivisions.\n",
    "\n",
    "Moreover, the algorithm contains two optional simplification steps: the **contraction of codomain**, which contract the skeleta via repeated edge contractions, and the **Delaunay simplification**, which reduce the spheres before gluing them. This latter step is only defined for Delaunay subdivisions."
   ]
  },
  {
   "cell_type": "markdown",
   "metadata": {},
   "source": [
    "## Implementation\n",
    "\n",
    "The algorithm can be used as follows:\n",
    "\n",
    "```python\n",
    "method_subdivision = 'Delaunay-edgewise' #can also be 'barycentric', 'edgewise', 'Delaunay-barycentric' or 'Delaunay-center'\n",
    "apply_contraction = True #True or False, whether to apply contractions\n",
    "apply_simplification = True #True or False, whether to apply simplification (Delaunay only)\n",
    "define_tree = False #True or False, whether to define trees (useless if apply_simplification is True)\n",
    "method_gluing = 'star' #can also be 'homotopy' (required if apply_simplification is True)\n",
    "verbose = True  #True or False, whether to print comments\n",
    "\n",
    "for i in range(len(Cells)):\n",
    "    Cell = Cells[i]\n",
    "\n",
    "    if Cell.Dimension == 0:\n",
    "        Skeleton = TriangulatePoint()\n",
    "        Skeleton.add_Domain(Cells[i].Domain)\n",
    "\n",
    "    else:\n",
    "        Sphere = TriangulateSphere(dim=Cell.Dimension-1,subdivise=Cell.Subdivise,method=method_subdivision)\n",
    "        LocationMap = GetGluingLocationMap(Sphere, Skeleton, Cell.GluingMap)\n",
    "        SatisfyCondition, Vertices = CheckWeakStarCondition(Sphere.Complex, Skeleton.Complex, LocationMap)\n",
    "        while not SatisfyCondition:\n",
    "            Sphere = GeneralizedSubdivision(Sphere, Vertices, method_subdivision, define_tree)\n",
    "            LocationMap = GetGluingLocationMap(Sphere, Skeleton, Cell.GluingMap, LocationMap)\n",
    "            SatisfyCondition,Vertices = CheckWeakStarCondition(Sphere.Complex,Skeleton.Complex,LocationMap)\n",
    "            InspectWeakStarCondition(Sphere, Vertices, Skeleton)\n",
    "        if apply_simplification: \n",
    "            Sphere,Vertices = SimplifyDelaunay(Sphere.Complex,Skeleton.Complex,Vertices,Sphere.Coordinates)\n",
    "        Ball = TriangulateBall(Sphere, verbose)\n",
    "        Skeleton = GlueCell(Ball, Skeleton, Cell, Vertices, method_gluing)\n",
    "        if apply_contraction: Skeleton = ContractTriangulation(Skeleton)\n",
    "```\n",
    "\n",
    "Let us describe each of these functions.\n",
    "- **TriangulatePoint**: returns a triangulation of the topological space consisting of only one point.\n",
    "- **TriangulateSphere**: returns a triangulation of the sphere $\\mathbb{S}^d$ based on an embedding of $\\partial \\Delta^{d+1}$, the boundary of the standard $d$-simplex, in $\\mathbb{R}^{d+1}$.\n",
    "- **CheckWeakStarCondition**: checks whether the map **Cells[i].GluingMap**, from **Spheres.Complex** to **Skeleton.Complex**, satisfies the weak star condition. \n",
    "If it does not, **IsSimplicial** is **False**, and **Vertices** is the list of vertices where the map does not satisfy the weak star condition. If it does, **IsSimplicial** is **True**, and **Vertices** is a dictionary representing a weak simplicial approximation.\n",
    "- **InspectWeakStarCondition**: gives certain information relative to the current triangulation (maximal edge length on which the weak star condition is not satisfied)\n",
    "- **GeneralizedSubdivision**: performs a generalized subdivision to the simplicial complex **Sphere.Complex**.\n",
    "- **TriangulateBall**: builds the simplicial cone on **Sphere**.\n",
    "- **GlueCell**: builds the simplicial mapping cone of the simplicial map **Vertices** by identifying the outer part of **Ball** with **Skeleton**.\n",
    "\n",
    "Moreover, the optional steps are:\n",
    "- **ContractTriangulation**: contracts the triangulation **Skeleton** by repeated edge contractions.\n",
    "- **SimplifyDelaunay**: simplifies the simplicial map **Vertices**, following the Delaunay simplification procedure.\n",
    "\n",
    "A diagrammatic representation of the algorithm is given in the next figure. The variables on the arrows are the output of the functions in the boxes. Optional steps are represented in dashed.\n",
    "<img src=\"Fig3.png\" width=700 height=700 />"
   ]
  },
  {
   "cell_type": "markdown",
   "metadata": {},
   "source": [
    "## Organization of the notebook\n",
    "    \n",
    "We shall apply the algorithm on the following spaces:    \n",
    "- the real projective space $\\mathbb{R}P^3$,\n",
    "- the lens spaces $L(p,q)$,\n",
    "- the Grassmannian $\\mathcal{G}(2,4)$,\n",
    "- the complex projective spaces $\\mathbb{C}P^2$,\n",
    "- the special orthogonal group $SO(3)$."
   ]
  },
  {
   "cell_type": "markdown",
   "metadata": {},
   "source": [
    "## Theoretical guarantees\n",
    "\n",
    "Let us raise two important point concerning the algorithm (see Subsection 4.2 of the paper):\n",
    "- **Termination:** in general, the algorithm may not terminate. In order to ensure that it does, one can use global subdivisions instead of generalized subdivisions. However, the algorithm did terminate on the examples of this notebook.\n",
    "- **Correctness:** even if the algorithm terminates, the output simplicial complex may not be homotopy equivalent to the initial CW complex. In order to verify this homotopy equivalence, further verification steps must be used, which we did not implement. In this notebook, we only verified that the simplicial complexes had the correct homology groups over $\\mathbb{Z}/2\\mathbb{Z}$ and $\\mathbb{Z}/3\\mathbb{Z}$. As a further sanity check, one can compute their homology over $\\mathbb{Z}$ and their fundamental groups, using for instance the package *simpcomp* of *GAP*, as follows:\n",
    "\n",
    "```C++\n",
    "LoadPackage(\"simpcomp\");\n",
    "file:=\"./Complexes/RP3_1_GAP.txt\";;\n",
    "Read(file);; c:=SCFromFacets(simplices);\n",
    "SCHomology(c); \n",
    "g:=SCFundamentalGroup(c);; StructureDescription(g);  \n",
    "```"
   ]
  },
  {
   "cell_type": "markdown",
   "metadata": {},
   "source": [
    "## Functions"
   ]
  },
  {
   "cell_type": "code",
   "execution_count": 1,
   "metadata": {},
   "outputs": [],
   "source": [
    "from functions import *\n",
    "                \n",
    "def main(verbose=True):            \n",
    "    for i in range(len(Cells)):\n",
    "        Cell = Cells[i]\n",
    "\n",
    "        if Cell.Dimension == 0:\n",
    "            Skeleton = TriangulatePoint()\n",
    "            Skeleton.add_Domain(Cells[i].Domain)\n",
    "\n",
    "        else:\n",
    "            Sphere = TriangulateSphere(dim=Cell.Dimension-1,subdivise=Cell.Subdivise,method=method_subdivision)\n",
    "            LocationMap = GetGluingLocationMap(Sphere, Skeleton, Cell.GluingMap)\n",
    "            SatisfyCondition, Vertices = CheckWeakStarCondition(Sphere.Complex, Skeleton.Complex, LocationMap,verbose=Cell.Dimension>2 and verbose)\n",
    "            while not SatisfyCondition:\n",
    "                InspectWeakStarCondition(Sphere, Vertices, Cell, Skeleton, verbose=Cell.Dimension>3 and verbose)\n",
    "                Sphere = GeneralizedSubdivision(Sphere, Vertices, method=method_subdivision, verbose=Cell.Dimension>3 and verbose)\n",
    "                LocationMap = GetGluingLocationMap(Sphere, Skeleton, Cell.GluingMap, LocationMap, verbose=Cell.Dimension>3 and verbose)\n",
    "                SatisfyCondition,Vertices = CheckWeakStarCondition(Sphere.Complex,Skeleton.Complex,LocationMap, verbose=Cell.Dimension>2 and verbose)\n",
    "            if apply_simplification: \n",
    "                Sphere, Vertices = SimplifyDelaunay(Sphere.Complex, Skeleton.Complex, Vertices,  Sphere.Coordinates, verbose=Cell.Dimension>2 and verbose)\n",
    "            Ball = TriangulateBall(Sphere)\n",
    "            Skeleton = GlueCell(Ball, Skeleton, Cell, Vertices, method_gluing)\n",
    "            if apply_contraction: Skeleton = ContractTriangulation(Skeleton, verbose=verbose)\n",
    "                \n",
    "        if verbose:\n",
    "            print('Cell of dim '+repr(Cell.Dimension)+' glued, the complex has '+repr(Skeleton.Complex.num_vertices())+' vertices.')\n",
    "            PrintHomology(Skeleton)\n",
    "            print()\n",
    "        \n",
    "    return Skeleton"
   ]
  },
  {
   "cell_type": "markdown",
   "metadata": {},
   "source": [
    "# Experiment I: the real projective space $\\mathbb{R}P^3$\n",
    "\n",
    "The space $\\mathbb{R}P^3$ is a 3-dimensional manifold, with integral homology groups $\\mathbb{Z}$, $\\mathbb{Z}/2\\mathbb{Z}$, $0$ and $\\mathbb{Z}$, and fundamental group $\\mathbb{Z}/2\\mathbb{Z}$.\n",
    "\n",
    "We shall compare the performance of the algorithm using the four subdivisions methods (*barycentric*, *edgewise*, *Delaunay-barycentric* and *Delaunay-edgewise*), as well as the two speed-ups (*edge contractions* and *Delaunay simplifications*)."
   ]
  },
  {
   "cell_type": "markdown",
   "metadata": {},
   "source": [
    "## I-1: With edge contractions"
   ]
  },
  {
   "cell_type": "markdown",
   "metadata": {},
   "source": [
    "We first build the list **Cells**, that represent the data of the gluing maps of the projective spaces.\n",
    "In order to ensure the termination of the algorithm, we have to perform an initial number of subdivisions on each cell. This number is prescribed by the value **Cell.Subdivise**."
   ]
  },
  {
   "cell_type": "code",
   "execution_count": 2,
   "metadata": {},
   "outputs": [],
   "source": [
    "Cells = []\n",
    "Subdivise = {0:0, 1:0, 2:2, 3:2}\n",
    "for i in range(len(Subdivise)):\n",
    "    Cell = ClassCell()\n",
    "    Cell.Dimension = i\n",
    "    Cell.Subdivise = Subdivise[i]\n",
    "    Cell.add_Domain(DomainProjectiveSpace)\n",
    "    Cell.add_GluingMap(GluingMapProjectiveSpace)\n",
    "    Cell.add_InvCharacteristicMap(InvCharacteristicMapProjectiveSpace)\n",
    "    Cells.append(Cell)  "
   ]
  },
  {
   "cell_type": "markdown",
   "metadata": {},
   "source": [
    "We now apply the algorithm **main()**, with barycentric subdivisions first. \n",
    "By applying edge contractions, we reduce the size of the simplicial complexes at each step."
   ]
  },
  {
   "cell_type": "code",
   "execution_count": 3,
   "metadata": {},
   "outputs": [
    {
     "name": "stdout",
     "output_type": "stream",
     "text": [
      "Cell of dim 0 glued, the complex has 1 vertices.\n",
      "Homology over p=2:   H0 = 1\n",
      "Homology over p=3:   H0 = 1\n",
      "\n",
      "| ContractTriangulation  | fast. Vertex 1/4. Duration 0:00:00/0:00:00. Dim/Simp/Vert = 1/6/3.\n",
      "Cell of dim 1 glued, the complex has 3 vertices.\n",
      "Homology over p=2:   H0 = 1  -  H1 = 1\n",
      "Homology over p=3:   H0 = 1  -  H1 = 1\n",
      "\n",
      "| ContractTriangulation  | fast. Vertex 25/32. Duration 0:00:00/0:00:00. Dim/Simp/Vert = 2/37/7.\n",
      "Cell of dim 2 glued, the complex has 7 vertices.\n",
      "Homology over p=2:   H0 = 1  -  H1 = 1  -  H2 = 1\n",
      "Homology over p=3:   H0 = 1  -  H1 = 0  -  H2 = 0\n",
      "\n",
      "| CheckWeakStarCondition | weak star condition not satisfied for 51.351% of the vertices.\n",
      "| CheckWeakStarCondition | weak star condition not satisfied for 24.405% of the vertices.\n",
      "| CheckWeakStarCondition | weak star condition not satisfied for 11.814% of the vertices.\n",
      "| CheckWeakStarCondition | weak star condition not satisfied for 7.676% of the vertices.\n",
      "| CheckWeakStarCondition | weak star condition not satisfied for 2.285% of the vertices.\n",
      "| CheckWeakStarCondition | The map satisfies the weak star condition. The map is simplicial.\n",
      "| ContractTriangulation  | fast. Vertex 6759/7498. Duration 0:25:37/0:02:48. Dim/Simp/Vert = 3/16606/739.\n",
      "Cell of dim 3 glued, the complex has 739 vertices.\n",
      "Homology over p=2:   H0 = 1  -  H1 = 1  -  H2 = 1  -  H3 = 1\n",
      "Homology over p=3:   H0 = 1  -  H1 = 0  -  H2 = 0  -  H3 = 1\n",
      "\n"
     ]
    }
   ],
   "source": [
    "# barycentric subdivision, with contractions\n",
    "# /!\\ long computation time\n",
    "\n",
    "method_subdivision = 'barycentric'\n",
    "apply_contraction = True\n",
    "apply_simplification = False\n",
    "method_gluing = 'star'\n",
    "\n",
    "RP3_1 = main()\n",
    "SaveSimplexTree(RP3_1.Complex, 'RP3_1'); SaveSimplexTreeGAP(RP3_1.Complex, 'RP3_1');"
   ]
  },
  {
   "cell_type": "markdown",
   "metadata": {},
   "source": [
    "The output is a simplicial complex with 739 vertices, potentially homotopy equivalent to $\\mathbb{R}P^3$. \n",
    "\n",
    "We now apply the algorithm with the *edgewise subdivision* method."
   ]
  },
  {
   "cell_type": "code",
   "execution_count": 4,
   "metadata": {
    "scrolled": false
   },
   "outputs": [
    {
     "name": "stdout",
     "output_type": "stream",
     "text": [
      "Cell of dim 0 glued, the complex has 1 vertices.\n",
      "Homology over p=2:   H0 = 1\n",
      "Homology over p=3:   H0 = 1\n",
      "\n",
      "| ContractTriangulation  | fast. Vertex 1/4. Duration 0:00:00/0:00:00. Dim/Simp/Vert = 1/6/3.\n",
      "Cell of dim 1 glued, the complex has 3 vertices.\n",
      "Homology over p=2:   H0 = 1  -  H1 = 1\n",
      "Homology over p=3:   H0 = 1  -  H1 = 1\n",
      "\n",
      "| ContractTriangulation  | fast. Vertex 25/32. Duration 0:00:00/0:00:00. Dim/Simp/Vert = 2/37/7.\n",
      "Cell of dim 2 glued, the complex has 7 vertices.\n",
      "Homology over p=2:   H0 = 1  -  H1 = 1  -  H2 = 1\n",
      "Homology over p=3:   H0 = 1  -  H1 = 0  -  H2 = 0\n",
      "\n",
      "| CheckWeakStarCondition | weak star condition not satisfied for 73.529% of the vertices.\n",
      "| CheckWeakStarCondition | weak star condition not satisfied for 54.545% of the vertices.\n",
      "| CheckWeakStarCondition | weak star condition not satisfied for 22.129% of the vertices.\n",
      "| CheckWeakStarCondition | weak star condition not satisfied for 10.669% of the vertices.\n",
      "| CheckWeakStarCondition | weak star condition not satisfied for 4.265% of the vertices.\n",
      "| CheckWeakStarCondition | weak star condition not satisfied for 0.467% of the vertices.\n",
      "| CheckWeakStarCondition | The map satisfies the weak star condition. The map is simplicial.\n",
      "| ContractTriangulation  | fast. Vertex 1282/1328. Duration 0:00:21/0:00:01. Dim/Simp/Vert = 3/916/46.\n",
      "Cell of dim 3 glued, the complex has 46 vertices.\n",
      "Homology over p=2:   H0 = 1  -  H1 = 1  -  H2 = 1  -  H3 = 1\n",
      "Homology over p=3:   H0 = 1  -  H1 = 0  -  H2 = 0  -  H3 = 1\n",
      "\n"
     ]
    }
   ],
   "source": [
    "# edgewise subdivision, with contractions\n",
    "\n",
    "method_subdivision = 'edgewise'\n",
    "apply_contraction = True\n",
    "apply_simplification = False\n",
    "method_gluing = 'star'\n",
    "\n",
    "RP3_2 = main()\n",
    "SaveSimplexTree(RP3_2.Complex, 'RP3_2'); SaveSimplexTreeGAP(RP3_2.Complex, 'RP3_2');"
   ]
  },
  {
   "cell_type": "markdown",
   "metadata": {},
   "source": [
    "The resulting complex has 46 vertices, way less than with barycentric subdivisions.\n",
    "\n",
    "As described in our paper, another subdivision method is based on the notion *Delaunay triangulations*. In the two next cells, we experiment the algorithm for *Delaunay barycentric* and *Delaunay edgewise* subdivisions. Again, the simplicial complexes contain respectively less vertices than previously: 185 and 29."
   ]
  },
  {
   "cell_type": "code",
   "execution_count": 5,
   "metadata": {},
   "outputs": [
    {
     "name": "stdout",
     "output_type": "stream",
     "text": [
      "Cell of dim 0 glued, the complex has 1 vertices.\n",
      "Homology over p=2:   H0 = 1\n",
      "Homology over p=3:   H0 = 1\n",
      "\n",
      "| ContractTriangulation  | fast. Vertex 1/4. Duration 0:00:00/0:00:00. Dim/Simp/Vert = 1/6/3.\n",
      "Cell of dim 1 glued, the complex has 3 vertices.\n",
      "Homology over p=2:   H0 = 1  -  H1 = 1\n",
      "Homology over p=3:   H0 = 1  -  H1 = 1\n",
      "\n",
      "| ContractTriangulation  | fast. Vertex 25/32. Duration 0:00:00/0:00:00. Dim/Simp/Vert = 2/37/7.\n",
      "Cell of dim 2 glued, the complex has 7 vertices.\n",
      "Homology over p=2:   H0 = 1  -  H1 = 1  -  H2 = 1\n",
      "Homology over p=3:   H0 = 1  -  H1 = 0  -  H2 = 0\n",
      "\n",
      "| CheckWeakStarCondition | weak star condition not satisfied for 62.162% of the vertices.\n",
      "| CheckWeakStarCondition | weak star condition not satisfied for 19.318% of the vertices.\n",
      "| CheckWeakStarCondition | weak star condition not satisfied for 6.513% of the vertices.\n",
      "| CheckWeakStarCondition | weak star condition not satisfied for 1.899% of the vertices.\n",
      "| CheckWeakStarCondition | weak star condition not satisfied for 0.104% of the vertices.\n",
      "| CheckWeakStarCondition | The map satisfies the weak star condition. The map is simplicial.\n",
      "| ContractTriangulation  | fast. Vertex 1771/1956. Duration 0:00:53/0:00:05. Dim/Simp/Vert = 3/3908/185.\n",
      "Cell of dim 3 glued, the complex has 185 vertices.\n",
      "Homology over p=2:   H0 = 1  -  H1 = 1  -  H2 = 1  -  H3 = 1\n",
      "Homology over p=3:   H0 = 1  -  H1 = 0  -  H2 = 0  -  H3 = 1\n",
      "\n"
     ]
    }
   ],
   "source": [
    "# Delaunay-barycentric subdivision, without contractions\n",
    "\n",
    "method_subdivision = 'Delaunay-barycentric'\n",
    "apply_contraction = True\n",
    "apply_simplification = False\n",
    "method_gluing = 'star'\n",
    "\n",
    "RP3_3 = main()\n",
    "SaveSimplexTree(RP3_3.Complex, 'RP3_3'); SaveSimplexTreeGAP(RP3_3.Complex, 'RP3_3');"
   ]
  },
  {
   "cell_type": "code",
   "execution_count": 6,
   "metadata": {},
   "outputs": [
    {
     "name": "stdout",
     "output_type": "stream",
     "text": [
      "Cell of dim 0 glued, the complex has 1 vertices.\n",
      "Homology over p=2:   H0 = 1\n",
      "Homology over p=3:   H0 = 1\n",
      "\n",
      "| ContractTriangulation  | fast. Vertex 1/4. Duration 0:00:00/0:00:00. Dim/Simp/Vert = 1/6/3.\n",
      "Cell of dim 1 glued, the complex has 3 vertices.\n",
      "Homology over p=2:   H0 = 1  -  H1 = 1\n",
      "Homology over p=3:   H0 = 1  -  H1 = 1\n",
      "\n",
      "| ContractTriangulation  | fast. Vertex 25/32. Duration 0:00:00/0:00:00. Dim/Simp/Vert = 2/37/7.\n",
      "Cell of dim 2 glued, the complex has 7 vertices.\n",
      "Homology over p=2:   H0 = 1  -  H1 = 1  -  H2 = 1\n",
      "Homology over p=3:   H0 = 1  -  H1 = 0  -  H2 = 0\n",
      "\n",
      "| CheckWeakStarCondition | weak star condition not satisfied for 79.412% of the vertices.\n",
      "| CheckWeakStarCondition | weak star condition not satisfied for 49.194% of the vertices.\n",
      "| CheckWeakStarCondition | weak star condition not satisfied for 18.927% of the vertices.\n",
      "| CheckWeakStarCondition | weak star condition not satisfied for 8.846% of the vertices.\n",
      "| CheckWeakStarCondition | weak star condition not satisfied for 3.253% of the vertices.\n",
      "| CheckWeakStarCondition | weak star condition not satisfied for 0.721% of the vertices.\n",
      "| CheckWeakStarCondition | The map satisfies the weak star condition. The map is simplicial.\n",
      "| ContractTriangulation  | fast. Vertex 1133/1162. Duration 0:00:16/0:00:00. Dim/Simp/Vert = 3/580/29.\n",
      "Cell of dim 3 glued, the complex has 29 vertices.\n",
      "Homology over p=2:   H0 = 1  -  H1 = 1  -  H2 = 1  -  H3 = 1\n",
      "Homology over p=3:   H0 = 1  -  H1 = 0  -  H2 = 0  -  H3 = 1\n",
      "\n"
     ]
    }
   ],
   "source": [
    "# Delaunay-edgewise subdivision, without contractions\n",
    "\n",
    "method_subdivision = 'Delaunay-edgewise'\n",
    "apply_contraction = True\n",
    "apply_simplification = False\n",
    "method_gluing = 'star'\n",
    "\n",
    "RP3_4 = main()\n",
    "SaveSimplexTree(RP3_4.Complex, 'RP3_4'); SaveSimplexTreeGAP(RP3_4.Complex, 'RP3_4');"
   ]
  },
  {
   "cell_type": "markdown",
   "metadata": {},
   "source": [
    "## I-2: With Delaunay simplifications"
   ]
  },
  {
   "cell_type": "markdown",
   "metadata": {},
   "source": [
    "Using Delaunay complexes, we can use another simplification step. This allows significantly faster computations.  When using these *Delaunay simplifications*, it is preferable to use the *homotopy gluing* method.\n",
    "\n",
    "We first experiment with the Delaunay-barycentric subdivisions. The resulting complex has 19 vertices, less than the 185 vertices obtained aboved, without simplifications."
   ]
  },
  {
   "cell_type": "code",
   "execution_count": 7,
   "metadata": {},
   "outputs": [
    {
     "name": "stdout",
     "output_type": "stream",
     "text": [
      "Cell of dim 0 glued, the complex has 1 vertices.\n",
      "Homology over p=2:   H0 = 1\n",
      "Homology over p=3:   H0 = 1\n",
      "\n",
      "| ContractTriangulation  | fast. Vertex 1/4. Duration 0:00:00/0:00:00. Dim/Simp/Vert = 1/6/3.\n",
      "Cell of dim 1 glued, the complex has 3 vertices.\n",
      "Homology over p=2:   H0 = 1  -  H1 = 1\n",
      "Homology over p=3:   H0 = 1  -  H1 = 1\n",
      "\n",
      "| ContractTriangulation  | fast. Vertex 5/11. Duration 0:00:00/0:00:00. Dim/Simp/Vert = 2/31/6.\n",
      "Cell of dim 2 glued, the complex has 6 vertices.\n",
      "Homology over p=2:   H0 = 1  -  H1 = 1  -  H2 = 1\n",
      "Homology over p=3:   H0 = 1  -  H1 = 0  -  H2 = 0\n",
      "\n",
      "| CheckWeakStarCondition | weak star condition not satisfied for 56.757% of the vertices.\n",
      "| CheckWeakStarCondition | weak star condition not satisfied for 11.932% of the vertices.\n",
      "| CheckWeakStarCondition | weak star condition not satisfied for 3.523% of the vertices.\n",
      "| CheckWeakStarCondition | weak star condition not satisfied for 1.815% of the vertices.\n",
      "| CheckWeakStarCondition | weak star condition not satisfied for 0.168% of the vertices.\n",
      "| CheckWeakStarCondition | The map satisfies the weak star condition. The map is simplicial.\n",
      "| SimplifyDelaunay       | Vertex 1157/1214. Duration 0:00:00/0:00:00. Dim/Simp/Vert = 2/338/58.\n",
      "| ContractTriangulation  | fast. Vertex 46/65. Duration 0:00:00/0:00:00. Dim/Simp/Vert = 3/384/19.\n",
      "Cell of dim 3 glued, the complex has 19 vertices.\n",
      "Homology over p=2:   H0 = 1  -  H1 = 1  -  H2 = 1  -  H3 = 1\n",
      "Homology over p=3:   H0 = 1  -  H1 = 0  -  H2 = 0  -  H3 = 1\n",
      "\n"
     ]
    }
   ],
   "source": [
    "# Delaunay-barycentric subdivision, with contractions and simplification\n",
    "\n",
    "method_subdivision = 'Delaunay-barycentric'\n",
    "apply_contraction = True\n",
    "apply_simplification = True\n",
    "method_gluing = 'homotopy'\n",
    "\n",
    "RP3_5 = main();\n",
    "SaveSimplexTree(RP3_5.Complex, 'RP3_5'); SaveSimplexTreeGAP(RP3_5.Complex, 'RP3_5');"
   ]
  },
  {
   "cell_type": "markdown",
   "metadata": {},
   "source": [
    "We now reproduce the same experiment with Delaunay-edgewise subdivisions.\n",
    "We obtain a last complex with 18 vertices."
   ]
  },
  {
   "cell_type": "code",
   "execution_count": 8,
   "metadata": {},
   "outputs": [
    {
     "name": "stdout",
     "output_type": "stream",
     "text": [
      "Cell of dim 0 glued, the complex has 1 vertices.\n",
      "Homology over p=2:   H0 = 1\n",
      "Homology over p=3:   H0 = 1\n",
      "\n",
      "| ContractTriangulation  | fast. Vertex 1/4. Duration 0:00:00/0:00:00. Dim/Simp/Vert = 1/6/3.\n",
      "Cell of dim 1 glued, the complex has 3 vertices.\n",
      "Homology over p=2:   H0 = 1  -  H1 = 1\n",
      "Homology over p=3:   H0 = 1  -  H1 = 1\n",
      "\n",
      "| ContractTriangulation  | fast. Vertex 5/11. Duration 0:00:00/0:00:00. Dim/Simp/Vert = 2/31/6.\n",
      "Cell of dim 2 glued, the complex has 6 vertices.\n",
      "Homology over p=2:   H0 = 1  -  H1 = 1  -  H2 = 1\n",
      "Homology over p=3:   H0 = 1  -  H1 = 0  -  H2 = 0\n",
      "\n",
      "| CheckWeakStarCondition | weak star condition not satisfied for 76.471% of the vertices.\n",
      "| CheckWeakStarCondition | weak star condition not satisfied for 41.463% of the vertices.\n",
      "| CheckWeakStarCondition | weak star condition not satisfied for 10.746% of the vertices.\n",
      "| CheckWeakStarCondition | weak star condition not satisfied for 4.715% of the vertices.\n",
      "| CheckWeakStarCondition | weak star condition not satisfied for 1.92% of the vertices.\n",
      "| CheckWeakStarCondition | weak star condition not satisfied for 0.586% of the vertices.\n",
      "| CheckWeakStarCondition | The map satisfies the weak star condition. The map is simplicial.\n",
      "| SimplifyDelaunay       | Vertex 636/706. Duration 0:00:00/0:00:00. Dim/Simp/Vert = 2/416/71.\n",
      "| ContractTriangulation  | fast. Vertex 60/78. Duration 0:00:00/0:00:00. Dim/Simp/Vert = 3/346/18.\n",
      "Cell of dim 3 glued, the complex has 18 vertices.\n",
      "Homology over p=2:   H0 = 1  -  H1 = 1  -  H2 = 1  -  H3 = 1\n",
      "Homology over p=3:   H0 = 1  -  H1 = 0  -  H2 = 0  -  H3 = 1\n",
      "\n"
     ]
    }
   ],
   "source": [
    "# Delaunay-edgewise subdivision, with contractions and simplification\n",
    "\n",
    "method_subdivision = 'Delaunay-edgewise'\n",
    "apply_contraction = True\n",
    "apply_simplification = True\n",
    "method_gluing = 'homotopy'\n",
    "\n",
    "RP3_6 = main();\n",
    "SaveSimplexTree(RP3_6.Complex, 'RP3_6'); SaveSimplexTreeGAP(RP3_6.Complex, 'RP3_6');"
   ]
  },
  {
   "cell_type": "markdown",
   "metadata": {},
   "source": [
    "We point out that the output of this algorithm is not deterministic. Indeed, some random choices are made while choosing a weak simplicial approximation, while performing the Delaunay simplification and during edge contractions. In some cases, one obtains a last simplicial complex with only $11$ vertices, which is the minimal number of vertices of a triangulation of $\\mathbb{R}P^3$"
   ]
  },
  {
   "cell_type": "markdown",
   "metadata": {},
   "source": [
    "The following figure represents the last cell computed by the algorithm. It is a triangulation of the sphere. One observes that the cell has been preferentially subdivided near the poles."
   ]
  },
  {
   "cell_type": "code",
   "execution_count": 10,
   "metadata": {},
   "outputs": [
    {
     "name": "stderr",
     "output_type": "stream",
     "text": [
      "/home/rtina/python-environments/tda-env/lib/python3.8/site-packages/numpy/lib/function_base.py:380: RuntimeWarning: Mean of empty slice.\n",
      "  avg = a.mean(axis)\n",
      "/home/rtina/python-environments/tda-env/lib/python3.8/site-packages/numpy/core/_methods.py:189: RuntimeWarning: invalid value encountered in double_scalars\n",
      "  ret = ret.dtype.type(ret / rcount)\n"
     ]
    },
    {
     "data": {
      "image/png": "[encoded data removed]",
      "text/plain": [
       "<Figure size 720x720 with 1 Axes>"
      ]
     },
     "metadata": {
      "needs_background": "light"
     },
     "output_type": "display_data"
    }
   ],
   "source": [
    "from mpl_toolkits.mplot3d.art3d import Poly3DCollection\n",
    "figsize = (10,10)\n",
    "\n",
    "# Ball dim 3\n",
    "tr = RP3_6.Parent.NewTriangulation.Boundary\n",
    "Edges = (filtr[0] for filtr in tr.Complex.get_filtration() if len(filtr[0])==2)\n",
    "fig = plt.figure(figsize = figsize); ax = fig.add_subplot(111, projection='3d')\n",
    "X = np.array(list(tr.Coordinates.values())) \n",
    "for edge in Edges:\n",
    "    ax.plot([X[edge[0]][0], X[edge[1]][0]], [X[edge[0]][1], X[edge[1]][1]], [X[edge[0]][2], X[edge[1]][2]], color='black', alpha=.9)\n",
    "Triangles = (filtr[0] for filtr in tr.Complex.get_filtration() if len(filtr[0])==3)\n",
    "Patches = []\n",
    "for triangle in Triangles:\n",
    "    verts = [tr.Coordinates[v] for v in triangle]\n",
    "    ax.add_collection3d(Poly3DCollection(verts, alpha=0.2, color='grey', edgecolor='black',linewidths=1.25)) \n",
    "for i in tr.Coordinates.keys():\n",
    "    ax.scatter3D(X[i, 0], X[i, 1], X[i, 2], color = 'magenta', lw = 5, alpha = 1)    \n",
    "velour.set_axes_equal(ax); plt.axis('off'); plt.axis('tight');"
   ]
  },
  {
   "cell_type": "markdown",
   "metadata": {},
   "source": [
    "# Experiment II: the lens spaces $L(p,q)$\n",
    "\n",
    "The 3-dimensional lens spaces $L(p,q)$ are parametrized by $p$ and $q$, two coprime integers.\n",
    "Its integral homology groups are $\\mathbb{Z}$, $\\mathbb{Z}/p\\mathbb{Z}$, $0$ and $\\mathbb{Z}$, and its fundamental group is $\\mathbb{Z}/p\\mathbb{Z}$.\n",
    "\n",
    "We shall apply the algorithm for all coprimes $(p,q)$ with $p \\in [2, 6]$ and $q \\in [1,3]$."
   ]
  },
  {
   "cell_type": "code",
   "execution_count": 13,
   "metadata": {
    "scrolled": false
   },
   "outputs": [
    {
     "name": "stdout",
     "output_type": "stream",
     "text": [
      "L(2,1) has 12 vertices.\n",
      "Homology over p=2:   H0 = 1  -  H1 = 1  -  H2 = 1  -  H3 = 1\n",
      "Homology over p=3:   H0 = 1  -  H1 = 0  -  H2 = 0  -  H3 = 1\n",
      "Homology over p=5:   H0 = 1  -  H1 = 0  -  H2 = 0  -  H3 = 1\n",
      "\n",
      "L(2,3) has 12 vertices.\n",
      "Homology over p=2:   H0 = 1  -  H1 = 1  -  H2 = 1  -  H3 = 1\n",
      "Homology over p=3:   H0 = 1  -  H1 = 0  -  H2 = 0  -  H3 = 1\n",
      "Homology over p=5:   H0 = 1  -  H1 = 0  -  H2 = 0  -  H3 = 1\n",
      "\n",
      "L(3,1) has 15 vertices.\n",
      "Homology over p=2:   H0 = 1  -  H1 = 0  -  H2 = 0  -  H3 = 1\n",
      "Homology over p=3:   H0 = 1  -  H1 = 1  -  H2 = 1  -  H3 = 1\n",
      "Homology over p=5:   H0 = 1  -  H1 = 0  -  H2 = 0  -  H3 = 1\n",
      "\n",
      "L(3,2) has 24 vertices.\n",
      "Homology over p=2:   H0 = 1  -  H1 = 0  -  H2 = 0  -  H3 = 1\n",
      "Homology over p=3:   H0 = 1  -  H1 = 1  -  H2 = 1  -  H3 = 1\n",
      "Homology over p=5:   H0 = 1  -  H1 = 0  -  H2 = 0  -  H3 = 1\n",
      "\n",
      "L(4,1) has 29 vertices.\n",
      "Homology over p=2:   H0 = 1  -  H1 = 1  -  H2 = 1  -  H3 = 1\n",
      "Homology over p=3:   H0 = 1  -  H1 = 0  -  H2 = 0  -  H3 = 1\n",
      "Homology over p=5:   H0 = 1  -  H1 = 0  -  H2 = 0  -  H3 = 1\n",
      "\n",
      "L(4,3) has 33 vertices.\n",
      "Homology over p=2:   H0 = 1  -  H1 = 1  -  H2 = 1  -  H3 = 1\n",
      "Homology over p=3:   H0 = 1  -  H1 = 0  -  H2 = 0  -  H3 = 1\n",
      "Homology over p=5:   H0 = 1  -  H1 = 0  -  H2 = 0  -  H3 = 1\n",
      "\n",
      "L(5,1) has 49 vertices.\n",
      "Homology over p=2:   H0 = 1  -  H1 = 0  -  H2 = 0  -  H3 = 1\n",
      "Homology over p=3:   H0 = 1  -  H1 = 0  -  H2 = 0  -  H3 = 1\n",
      "Homology over p=5:   H0 = 1  -  H1 = 1  -  H2 = 1  -  H3 = 1\n",
      "\n",
      "L(5,2) has 41 vertices.\n",
      "Homology over p=2:   H0 = 1  -  H1 = 0  -  H2 = 0  -  H3 = 1\n",
      "Homology over p=3:   H0 = 1  -  H1 = 0  -  H2 = 0  -  H3 = 1\n",
      "Homology over p=5:   H0 = 1  -  H1 = 1  -  H2 = 1  -  H3 = 1\n",
      "\n",
      "L(5,3) has 43 vertices.\n",
      "Homology over p=2:   H0 = 1  -  H1 = 0  -  H2 = 0  -  H3 = 1\n",
      "Homology over p=3:   H0 = 1  -  H1 = 0  -  H2 = 0  -  H3 = 1\n",
      "Homology over p=5:   H0 = 1  -  H1 = 1  -  H2 = 1  -  H3 = 1\n",
      "\n",
      "L(6,1) has 57 vertices.\n",
      "Homology over p=2:   H0 = 1  -  H1 = 1  -  H2 = 1  -  H3 = 1\n",
      "Homology over p=3:   H0 = 1  -  H1 = 1  -  H2 = 1  -  H3 = 1\n",
      "Homology over p=5:   H0 = 1  -  H1 = 0  -  H2 = 0  -  H3 = 1\n",
      "\n"
     ]
    }
   ],
   "source": [
    "import math\n",
    "from collections import OrderedDict\n",
    "\n",
    "method_subdivision = 'Delaunay-edgewise'\n",
    "apply_contraction = True\n",
    "apply_simplification = True\n",
    "method_gluing = 'homotopy'\n",
    "\n",
    "Pairs = [tuple([p,q]) for p in range(2,6+1) for q in range(1,3+1) if math.gcd(p,q)==1]\n",
    "TriangulationsLensSpaces = OrderedDict()\n",
    "for [p,q] in Pairs:\n",
    "    Cells = [ClassCell() for i in range(4)]\n",
    "    for i in range(4): Cells[i].p, Cells[i].q = p, q\n",
    "    Cells[0].Dimension, Cells[1].Dimension, Cells[2].Dimension, Cells[3].Dimension = 0, 1, 2, 3\n",
    "    Cells[0].Subdivise, Cells[1].Subdivise, Cells[2].Subdivise, Cells[3].Subdivise = 0, 0, p, 2\n",
    "    Cells[1].add_Domain(DomainLensSpace1); Cells[1].add_GluingMap(GluingMapLensSpace1); Cells[1].add_InvCharacteristicMap(InvCharacteristicMapLensSpace1)\n",
    "    Cells[2].add_Domain(DomainLensSpace2); Cells[2].add_GluingMap(GluingMapLensSpace2); Cells[2].add_InvCharacteristicMap(InvCharacteristicMapLensSpace2)\n",
    "    Cells[3].add_Domain(DomainLensSpace3); Cells[3].add_GluingMap(GluingMapLensSpace3); Cells[3].add_InvCharacteristicMap(InvCharacteristicMapLensSpace3)\n",
    "\n",
    "    Lpq = main(verbose=False);\n",
    "    print('L('+repr(p)+','+repr(q)+') has '+repr(Lpq.Complex.num_vertices())+' vertices.')\n",
    "    PrintHomology(Lpq, Primes=[2,3,5])\n",
    "    TriangulationsLensSpaces[tuple([p,q])] = Lpq\n",
    "    SaveSimplexTreeGAP(Lpq.Complex, 'L'+repr(p)+repr(q))\n",
    "    print()"
   ]
  },
  {
   "cell_type": "markdown",
   "metadata": {},
   "source": [
    "We observe that the simplicial complexes have the same homology groups than $L(p,q)$ over $\\mathbb{Z}/2\\mathbb{Z}$, $\\mathbb{Z}/3\\mathbb{Z}$ and $\\mathbb{Z}/5\\mathbb{Z}$."
   ]
  },
  {
   "cell_type": "markdown",
   "metadata": {},
   "source": [
    "# Experiment III: the Grassmannian $\\mathcal{G}(2,4)$"
   ]
  },
  {
   "cell_type": "markdown",
   "metadata": {},
   "source": [
    "The Grassmannian $\\mathcal{G}(2,4)$ can be seen as the set of $2$-planes in $\\mathbb{R}^4$. It is a manifold of dimension $4$. Its integral homology groups are $\\mathbb{Z}$, $\\mathbb{Z}/2\\mathbb{Z}$, $\\mathbb{Z}/2\\mathbb{Z}$, $0$ and $\\mathbb{Z}$, and its fundamental group is $\\mathbb{Z}/2\\mathbb{Z}$. In particular, \n",
    "- its homology with $\\mathbb{Z}/2\\mathbb{Z}$ coefficients is $\\mathbb{Z}/2\\mathbb{Z}$, $\\mathbb{Z}/2\\mathbb{Z}$, $(\\mathbb{Z}/2\\mathbb{Z})^2$, $\\mathbb{Z}/2\\mathbb{Z}$ and $\\mathbb{Z}/2\\mathbb{Z}$, \n",
    "- for $p>2$, its homology with $\\mathbb{Z}/p\\mathbb{Z}$ coefficients is $\\mathbb{Z}/p\\mathbb{Z}$, $0$, $0$, $0$, and $\\mathbb{Z}/p\\mathbb{Z}$.\n",
    "\n",
    "In order to apply the algorithm on $\\mathcal{G}(2,4)$, we use its usual CW structure via Schubert cells. \n",
    "Each cell is indexed by a pair of integers, called its *Schubert symbol*.\n",
    "We first create the list **Cells**."
   ]
  },
  {
   "cell_type": "code",
   "execution_count": 14,
   "metadata": {},
   "outputs": [],
   "source": [
    "SchubertSymbols = [ [1,2], [1,3], [2,3], [1,4], [2,4], [3,4]]\n",
    "Subdivise = [0,0,2,2,2,2]\n",
    "Cells = []\n",
    "for i in range(len(SchubertSymbols)):\n",
    "    sigma = SchubertSymbols[i]\n",
    "    Cell = ClassCell()\n",
    "    Cell.SchubertSymbol = sigma\n",
    "    Cell.Dimension = sigma[0]+sigma[1]-3\n",
    "    Cell.add_Domain(DomainGrassmannian)\n",
    "    Cell.add_GluingMap(GluingMapGrassmannian)\n",
    "    Cell.add_InvCharacteristicMap(InvCharacteristicMapGrassmannian)\n",
    "    Cell.Subdivise = Subdivise[i]\n",
    "    Cells.append(Cell)"
   ]
  },
  {
   "cell_type": "markdown",
   "metadata": {},
   "source": [
    "We now apply the main algorithm on these cells.\n",
    "In order obtain simplicial complexes with fewer vertices, we use the Delaunay-edgewise subdivision method, as well as both optional steps, edge contractions and Delaunay simplification."
   ]
  },
  {
   "cell_type": "code",
   "execution_count": 15,
   "metadata": {},
   "outputs": [
    {
     "name": "stdout",
     "output_type": "stream",
     "text": [
      "Cell of dim 0 glued, the complex has 1 vertices.\n",
      "Homology over p=2:   H0 = 1\n",
      "Homology over p=3:   H0 = 1\n",
      "\n",
      "| ContractTriangulation  | fast. Vertex 1/4. Duration 0:00:00/0:00:00. Dim/Simp/Vert = 1/6/3.\n",
      "Cell of dim 1 glued, the complex has 3 vertices.\n",
      "Homology over p=2:   H0 = 1  -  H1 = 1\n",
      "Homology over p=3:   H0 = 1  -  H1 = 1\n",
      "\n",
      "| ContractTriangulation  | fast. Vertex 4/10. Duration 0:00:00/0:00:00. Dim/Simp/Vert = 2/31/6.\n",
      "Cell of dim 2 glued, the complex has 6 vertices.\n",
      "Homology over p=2:   H0 = 1  -  H1 = 1  -  H2 = 1\n",
      "Homology over p=3:   H0 = 1  -  H1 = 0  -  H2 = 0\n",
      "\n",
      "| ContractTriangulation  | fast. Vertex 3/13. Duration 0:00:00/0:00:00. Dim/Simp/Vert = 2/62/10.\n",
      "Cell of dim 2 glued, the complex has 10 vertices.\n",
      "Homology over p=2:   H0 = 1  -  H1 = 1  -  H2 = 2\n",
      "Homology over p=3:   H0 = 1  -  H1 = 0  -  H2 = 1\n",
      "\n",
      "| CheckWeakStarCondition | weak star condition not satisfied for 67.647% of the vertices.\n",
      "| CheckWeakStarCondition | weak star condition not satisfied for 50.862% of the vertices.\n",
      "| CheckWeakStarCondition | weak star condition not satisfied for 18.563% of the vertices.\n",
      "| CheckWeakStarCondition | weak star condition not satisfied for 3.733% of the vertices.\n",
      "| CheckWeakStarCondition | The map satisfies the weak star condition. The map is simplicial.\n",
      "| SimplifyDelaunay       | Vertex 692/773. Duration 0:00:00/0:00:00. Dim/Simp/Vert = 2/482/82.\n",
      "| ContractTriangulation  | fast. Vertex 71/93. Duration 0:00:00/0:00:00. Dim/Simp/Vert = 3/531/22.\n",
      "Cell of dim 3 glued, the complex has 22 vertices.\n",
      "Homology over p=2:   H0 = 1  -  H1 = 1  -  H2 = 2  -  H3 = 1\n",
      "Homology over p=3:   H0 = 1  -  H1 = 0  -  H2 = 0  -  H3 = 0\n",
      "\n",
      "| CheckWeakStarCondition | weak star condition not satisfied for 98.571% of the vertices.\n",
      "| InspectStarCondition   | Max edge length in sphere: 1.0879, in manifold: 1.4194.\n",
      "| GeneralizedSubdivision | Delaunay-edgewise. 69/70 points to subdivise. Dim/Simp/Vert = 3/10480/440.\n",
      "| GetGluingLocationMap   | 370/440 new vertices (84.1%). Vertex 370/370. Duration 0:00:01/0:00:00.\n",
      "| CheckWeakStarCondition | weak star condition not satisfied for 84.318% of the vertices.\n",
      "| InspectStarCondition   | Max edge length in sphere: 0.719, in manifold: 1.8512.\n",
      "| GeneralizedSubdivision | Delaunay-edgewise. 371/440 points to subdivise. Dim/Simp/Vert = 3/81354/3191.\n",
      "| GetGluingLocationMap   | 2751/3191 new vertices (86.2%). Vertex 2751/2751. Duration 0:00:12/0:00:00.\n",
      "| CheckWeakStarCondition | weak star condition not satisfied for 42.714% of the vertices.\n",
      "| InspectStarCondition   | Max edge length in sphere: 0.3713, in manifold: 0.8957.\n",
      "| GeneralizedSubdivision | Delaunay-edgewise. 1363/3191 points to subdivise. Dim/Simp/Vert = 3/416634/15981.\n",
      "| GetGluingLocationMap   | 12790/15981 new vertices (80.0%). Vertex 12790/12790. Duration 0:01:05/0:00:00.\n",
      "| CheckWeakStarCondition | weak star condition not satisfied for 14.085% of the vertices.\n",
      "| InspectStarCondition   | Max edge length in sphere: 0.306, in manifold: 0.2341.\n",
      "| GeneralizedSubdivision | Delaunay-edgewise. 2251/15981 points to subdivise. Dim/Simp/Vert = 3/1057164/40248.\n",
      "| GetGluingLocationMap   | 24267/40248 new vertices (60.3%). Vertex 24267/24267. Duration 0:03:04/0:00:00.\n",
      "| CheckWeakStarCondition | weak star condition not satisfied for 5.133% of the vertices.\n",
      "| InspectStarCondition   | Max edge length in sphere: 0.2807, in manifold: 1.8994.\n",
      "| GeneralizedSubdivision | Delaunay-edgewise. 2066/40248 points to subdivise. Dim/Simp/Vert = 3/1672210/63513.\n",
      "| GetGluingLocationMap   | 23265/63513 new vertices (36.6%). Vertex 23265/23265. Duration 0:04:19/0:00:00.\n",
      "| CheckWeakStarCondition | weak star condition not satisfied for 1.911% of the vertices.\n",
      "| InspectStarCondition   | Max edge length in sphere: 0.1443, in manifold: 0.2679.\n",
      "| GeneralizedSubdivision | Delaunay-edgewise. 1214/63513 points to subdivise. Dim/Simp/Vert = 3/2053250/77971.\n",
      "| GetGluingLocationMap   | 14458/77971 new vertices (18.5%). Vertex 14458/14458. Duration 0:03:05/0:00:00.\n",
      "| CheckWeakStarCondition | weak star condition not satisfied for 0.516% of the vertices.\n",
      "| InspectStarCondition   | Max edge length in sphere: 0.1772, in manifold: 0.2131.\n",
      "| GeneralizedSubdivision | Delaunay-edgewise. 402/77971 points to subdivise. Dim/Simp/Vert = 3/2192780/83236.\n",
      "| GetGluingLocationMap   | 5265/83236 new vertices (6.3%). Vertex 5265/5265. Duration 0:01:17/0:00:00.\n",
      "| CheckWeakStarCondition | weak star condition not satisfied for 0.042% of the vertices.\n",
      "| InspectStarCondition   | Max edge length in sphere: 0.1855, in manifold: 0.1894.\n",
      "| GeneralizedSubdivision | Delaunay-edgewise. 35/83236 points to subdivise. Dim/Simp/Vert = 3/2206944/83758.\n",
      "| GetGluingLocationMap   | 522/83758 new vertices (0.6%). Vertex 522/522. Duration 0:00:08/0:00:00.\n",
      "| CheckWeakStarCondition | weak star condition not satisfied for 0.019% of the vertices.\n",
      "| InspectStarCondition   | Max edge length in sphere: 0.0759, in manifold: 0.0797.\n",
      "| GeneralizedSubdivision | Delaunay-edgewise. 16/83758 points to subdivise. Dim/Simp/Vert = 3/2213314/83989.\n",
      "| GetGluingLocationMap   | 231/83989 new vertices (0.3%). Vertex 231/231. Duration 0:00:03/0:00:00.\n",
      "| CheckWeakStarCondition | weak star condition not satisfied for 0.007% of the vertices.\n",
      "| InspectStarCondition   | Max edge length in sphere: 0.0675, in manifold: 0.0692.\n",
      "| GeneralizedSubdivision | Delaunay-edgewise. 6/83989 points to subdivise. Dim/Simp/Vert = 3/2215744/84080.\n",
      "| GetGluingLocationMap   | 91/84080 new vertices (0.1%). Vertex 91/91. Duration 0:00:01/0:00:00.\n",
      "| CheckWeakStarCondition | weak star condition not satisfied for 0.005% of the vertices.\n",
      "| InspectStarCondition   | Max edge length in sphere: 0.0939, in manifold: 0.0955.\n",
      "| GeneralizedSubdivision | Delaunay-edgewise. 4/84080 points to subdivise. Dim/Simp/Vert = 3/2217590/84147.\n",
      "| GetGluingLocationMap   | 67/84147 new vertices (0.1%). Vertex 67/67. Duration 0:00:01/0:00:00.\n",
      "| CheckWeakStarCondition | weak star condition not satisfied for 0.004% of the vertices.\n",
      "| InspectStarCondition   | Max edge length in sphere: 0.0848, in manifold: 0.082.\n",
      "| GeneralizedSubdivision | Delaunay-edgewise. 3/84147 points to subdivise. Dim/Simp/Vert = 3/2218834/84193.\n",
      "| GetGluingLocationMap   | 46/84193 new vertices (0.1%). Vertex 46/46. Duration 0:00:01/0:00:00.\n",
      "| CheckWeakStarCondition | The map satisfies the weak star condition. The map is simplicial.\n",
      "| SimplifyDelaunay       | Vertex 80767/84193. Duration 0:00:37/0:00:02. Dim/Simp/Vert = 3/95398/3427.\n",
      "| ContractTriangulation  | fast. Vertex 2625/3450. Duration 0:30:19/0:09:31. Dim/Simp/Vert = 4/117852/825.\n",
      "Cell of dim 4 glued, the complex has 825 vertices.\n",
      "Homology over p=2:   H0 = 1  -  H1 = 1  -  H2 = 2  -  H3 = 1  -  H4 = 1\n",
      "Homology over p=3:   H0 = 1  -  H1 = 0  -  H2 = 0  -  H3 = 0  -  H4 = 1\n",
      "\n"
     ]
    }
   ],
   "source": [
    "# Delaunay-edgewise subdivision, with contractions and simplification\n",
    "# /!\\ long computation time\n",
    "\n",
    "method_subdivision = 'Delaunay-edgewise'\n",
    "apply_contraction = True\n",
    "apply_simplification = True\n",
    "method_gluing = 'homotopy'\n",
    "\n",
    "G24 = main()\n",
    "SaveSimplexTree(G24.Complex, 'G24'); SaveSimplexTreeGAP(G24.Complex, 'G24');"
   ]
  },
  {
   "cell_type": "markdown",
   "metadata": {},
   "source": [
    "We obtained a simplicial complex with 825 vertices, potentially homotopy equivalent to $\\mathcal{G}(2,4)$. In order to verify its homotopy type, further verification steps must be implemented. Here, we only check that it has the correct homology over $\\mathbb{Z}/2\\mathbb{Z}$ and $\\mathbb{Z}/3\\mathbb{Z}$.\n",
    "The complex can be downloaded on https://github.com/raphaeltinarrage/SimplicialApproximationCW."
   ]
  },
  {
   "cell_type": "markdown",
   "metadata": {},
   "source": [
    "# Experiment IV: the complex projective space $\\mathbb{C}P^2$\n",
    "\n",
    "It is a manifold of real dimension $4$. It has a CW structure made of only three cells, one in dimension 0, 2 and 4.\n",
    "The integral homology of $\\mathbb{C}P^2$ is $\\mathbb{Z}$, $0$, $\\mathbb{Z}$, $0$ and $\\mathbb{Z}$.\n",
    "\n",
    "We build the cells, and run the algorithm on it."
   ]
  },
  {
   "cell_type": "code",
   "execution_count": 16,
   "metadata": {},
   "outputs": [],
   "source": [
    "Cells = []\n",
    "Subdivise = {0:0, 2:0, 4:2}\n",
    "for d in Subdivise:\n",
    "    Cell = ClassCell()\n",
    "    Cell.Dimension = d\n",
    "    Cell.Subdivise = Subdivise[d]\n",
    "    Cell.add_Domain(DomainComplexProjectiveSpace)\n",
    "    Cell.add_GluingMap(GluingMapComplexProjectiveSpace)\n",
    "    Cell.add_InvCharacteristicMap(InvCharacteristicMapComplexProjectiveSpace)\n",
    "    Cells.append(Cell)  "
   ]
  },
  {
   "cell_type": "code",
   "execution_count": 17,
   "metadata": {},
   "outputs": [
    {
     "name": "stdout",
     "output_type": "stream",
     "text": [
      "Cell of dim 0 glued, the complex has 1 vertices.\n",
      "Homology over p=2:   H0 = 1\n",
      "Homology over p=3:   H0 = 1\n",
      "\n",
      "| ContractTriangulation  | fast. Vertex 1/5. Duration 0:00:00/0:00:00. Dim/Simp/Vert = 2/14/4.\n",
      "Cell of dim 2 glued, the complex has 4 vertices.\n",
      "Homology over p=2:   H0 = 1  -  H1 = 0  -  H2 = 1\n",
      "Homology over p=3:   H0 = 1  -  H1 = 0  -  H2 = 1\n",
      "\n",
      "| CheckWeakStarCondition | weak star condition not satisfied for 80.0% of the vertices.\n",
      "| InspectStarCondition   | Max edge length in sphere: 1.0879, in manifold: 0.3727.\n",
      "| GeneralizedSubdivision | Delaunay-edgewise. 56/70 points to subdivise. Dim/Simp/Vert = 3/10168/426.\n",
      "| GetGluingLocationMap   | 356/426 new vertices (83.6%). Vertex 356/356. Duration 0:00:00/0:00:00.\n",
      "| CheckWeakStarCondition | weak star condition not satisfied for 46.244% of the vertices.\n",
      "| InspectStarCondition   | Max edge length in sphere: 0.719, in manifold: 0.6474.\n",
      "| GeneralizedSubdivision | Delaunay-edgewise. 197/426 points to subdivise. Dim/Simp/Vert = 3/57782/2247.\n",
      "| GetGluingLocationMap   | 1821/2247 new vertices (81.0%). Vertex 1821/1821. Duration 0:00:01/0:00:00.\n",
      "| CheckWeakStarCondition | weak star condition not satisfied for 27.192% of the vertices.\n",
      "| InspectStarCondition   | Max edge length in sphere: 0.719, in manifold: 0.2282.\n",
      "| GeneralizedSubdivision | Delaunay-edgewise. 611/2247 points to subdivise. Dim/Simp/Vert = 3/218568/8388.\n",
      "| GetGluingLocationMap   | 6141/8388 new vertices (73.2%). Vertex 6141/6141. Duration 0:00:04/0:00:00.\n",
      "| CheckWeakStarCondition | weak star condition not satisfied for 9.12% of the vertices.\n",
      "| InspectStarCondition   | Max edge length in sphere: 0.531, in manifold: 0.4044.\n",
      "| GeneralizedSubdivision | Delaunay-edgewise. 765/8388 points to subdivise. Dim/Simp/Vert = 3/473512/17962.\n",
      "| GetGluingLocationMap   | 9574/17962 new vertices (53.3%). Vertex 9574/9574. Duration 0:00:07/0:00:00.\n",
      "| CheckWeakStarCondition | weak star condition not satisfied for 0.562% of the vertices.\n",
      "| InspectStarCondition   | Max edge length in sphere: 0.5573, in manifold: 0.2105.\n",
      "| GeneralizedSubdivision | Delaunay-edgewise. 101/17962 points to subdivise. Dim/Simp/Vert = 3/518084/19614.\n",
      "| GetGluingLocationMap   | 1652/19614 new vertices (8.4%). Vertex 1652/1652. Duration 0:00:03/0:00:00.\n",
      "| CheckWeakStarCondition | weak star condition not satisfied for 0.036% of the vertices.\n",
      "| InspectStarCondition   | Max edge length in sphere: 0.2814, in manifold: 0.1556.\n",
      "| GeneralizedSubdivision | Delaunay-edgewise. 7/19614 points to subdivise. Dim/Simp/Vert = 3/521562/19745.\n",
      "| GetGluingLocationMap   | 131/19745 new vertices (0.7%). Vertex 131/131. Duration 0:00:00/0:00:00.\n",
      "| CheckWeakStarCondition | The map satisfies the weak star condition. The map is simplicial.\n",
      "| SimplifyDelaunay       | Vertex 19391/19745. Duration 0:00:06/0:00:00. Dim/Simp/Vert = 3/9318/355.\n",
      "| ContractTriangulation  | fast. Vertex 231/360. Duration 0:00:21/0:00:11. Dim/Simp/Vert = 4/14385/129.\n",
      "Cell of dim 4 glued, the complex has 129 vertices.\n",
      "Homology over p=2:   H0 = 1  -  H1 = 0  -  H2 = 1  -  H3 = 0  -  H4 = 1\n",
      "Homology over p=3:   H0 = 1  -  H1 = 0  -  H2 = 1  -  H3 = 0  -  H4 = 1\n",
      "\n"
     ]
    }
   ],
   "source": [
    "# Delaunay-edgewise subdivision, with contractions and simplification\n",
    "\n",
    "method_subdivision = 'Delaunay-edgewise'\n",
    "apply_contraction = True\n",
    "apply_simplification = True\n",
    "method_gluing = 'homotopy'\n",
    "\n",
    "CP2 = main();\n",
    "SaveSimplexTree(CP2.Complex, 'CP2'); SaveSimplexTreeGAP(CP2.Complex, 'CP2');"
   ]
  },
  {
   "cell_type": "markdown",
   "metadata": {},
   "source": [
    "We obtained a simplicial complex with 129 vertices, and the correct homology groups over $\\mathbb{Z}/2\\mathbb{Z}$ and $\\mathbb{Z}/3\\mathbb{Z}$."
   ]
  },
  {
   "cell_type": "markdown",
   "metadata": {},
   "source": [
    "# Experiment V: the special orthogonal group $SO(3)$\n",
    "\n",
    "The space $SO(3)$ is the set of $3 \\times 3$ orthogonal matrices of determinant $1$.\n",
    "It is homeomorphic to $\\mathbb{R}P^3$, hence has the same integral homology groups $\\mathbb{Z}$, $\\mathbb{Z}/2\\mathbb{Z}$, $0$ and $\\mathbb{Z}$.\n",
    "\n",
    "In general, $SO(n)$ has a CW stucture, coming from the decomposition of orthogonal matrices into *reflections along planes*. Its cells are indexed by the stricly increasing subsequences of $(1, \\dots, n-1)$."
   ]
  },
  {
   "cell_type": "code",
   "execution_count": 18,
   "metadata": {},
   "outputs": [
    {
     "name": "stdout",
     "output_type": "stream",
     "text": [
      "Sequences: [[], [1], [2], [2, 1]]\n"
     ]
    }
   ],
   "source": [
    "n = 3\n",
    "Sequences = FindSequencesOrthogonalGroup(list(range(1,n)))\n",
    "print('Sequences: '+repr(Sequences))\n",
    "Subdivise = [0,0]+[2]*len(Sequences)\n",
    "Cells = []\n",
    "for i in range(len(Sequences)):\n",
    "    sequence = Sequences[i]\n",
    "    Cell = ClassCell()\n",
    "    Cell.n = n\n",
    "    Cell.Sequence = sequence\n",
    "    Cell.Dimension = sum(sequence)\n",
    "    Cell.add_Domain(DomainOrthogonalGroup)\n",
    "    Cell.add_GluingMap(GluingMapOrthogonalGroup)\n",
    "    Cell.add_InvCharacteristicMap(InvCharacteristicMapOrthogonalGroup)\n",
    "    Cell.Subdivise = Subdivise[i]\n",
    "    Cells.append(Cell)"
   ]
  },
  {
   "cell_type": "code",
   "execution_count": 19,
   "metadata": {
    "scrolled": false
   },
   "outputs": [
    {
     "name": "stdout",
     "output_type": "stream",
     "text": [
      "Cell of dim 0 glued, the complex has 1 vertices.\n",
      "Homology over p=2:   H0 = 1\n",
      "Homology over p=3:   H0 = 1\n",
      "\n",
      "| ContractTriangulation  | fast. Vertex 1/4. Duration 0:00:00/0:00:00. Dim/Simp/Vert = 1/6/3.\n",
      "Cell of dim 1 glued, the complex has 3 vertices.\n",
      "Homology over p=2:   H0 = 1  -  H1 = 1\n",
      "Homology over p=3:   H0 = 1  -  H1 = 1\n",
      "\n",
      "| ContractTriangulation  | fast. Vertex 3/10. Duration 0:00:00/0:00:00. Dim/Simp/Vert = 2/37/7.\n",
      "Cell of dim 2 glued, the complex has 7 vertices.\n",
      "Homology over p=2:   H0 = 1  -  H1 = 1  -  H2 = 1\n",
      "Homology over p=3:   H0 = 1  -  H1 = 0  -  H2 = 0\n",
      "\n",
      "| CheckWeakStarCondition | weak star condition not satisfied for 79.412% of the vertices.\n",
      "| CheckWeakStarCondition | weak star condition not satisfied for 61.6% of the vertices.\n",
      "| CheckWeakStarCondition | weak star condition not satisfied for 27.764% of the vertices.\n",
      "| CheckWeakStarCondition | weak star condition not satisfied for 9.111% of the vertices.\n",
      "| CheckWeakStarCondition | weak star condition not satisfied for 2.882% of the vertices.\n",
      "| CheckWeakStarCondition | weak star condition not satisfied for 1.226% of the vertices.\n",
      "| CheckWeakStarCondition | The map satisfies the weak star condition. The map is simplicial.\n",
      "| SimplifyDelaunay       | Vertex 1481/1567. Duration 0:00:00/0:00:00. Dim/Simp/Vert = 2/512/87.\n",
      "| ContractTriangulation  | fast. Vertex 82/95. Duration 0:00:00/0:00:00. Dim/Simp/Vert = 3/238/13.\n",
      "Cell of dim 3 glued, the complex has 13 vertices.\n",
      "Homology over p=2:   H0 = 1  -  H1 = 1  -  H2 = 1  -  H3 = 1\n",
      "Homology over p=3:   H0 = 1  -  H1 = 0  -  H2 = 0  -  H3 = 1\n",
      "\n"
     ]
    }
   ],
   "source": [
    "method_subdivision = 'Delaunay-edgewise'\n",
    "apply_contraction = True\n",
    "apply_simplification = True\n",
    "method_gluing = 'homotopy'\n",
    "\n",
    "SO3 = main();\n",
    "SaveSimplexTree(SO3.Complex, 'SO3'); SaveSimplexTreeGAP(SO3.Complex, 'SO3');"
   ]
  },
  {
   "cell_type": "markdown",
   "metadata": {},
   "source": [
    "The same implementation of these cells can be used to triangulate $SO(n)$ for any $n$. However, they have large dimension. For instance, $SO(4)$ has dimension 6. By running the algorithm on it, our computer runs out of memory. Investigating how to improve memory usage is the subject of a future work."
   ]
  },
  {
   "cell_type": "markdown",
   "metadata": {},
   "source": [
    "# Conclusion"
   ]
  },
  {
   "cell_type": "markdown",
   "metadata": {},
   "source": [
    "In this notebook, we applied our algorithm to five CW complexes: the projective space $\\mathbb{R}P^3$, the lens spaces $L(p,q)$, the Grassmannian $\\mathcal{G}(2,4)$, the complex projective space $\\mathbb{C}P^2$ and the special orthogonal group $SO(3)$. \n",
    "More generally, the algorithm can be used on any finite-dimensional CW complex whose structure is explicitely known, that is, whose gluing maps and inverse characteristic maps are implemented."
   ]
  }
 ],
 "metadata": {
  "kernelspec": {
   "display_name": "Python 3",
   "language": "python",
   "name": "python3"
  },
  "language_info": {
   "codemirror_mode": {
    "name": "ipython",
    "version": 3
   },
   "file_extension": ".py",
   "mimetype": "text/x-python",
   "name": "python",
   "nbconvert_exporter": "python",
   "pygments_lexer": "ipython3",
   "version": "3.7.8"
  }
 },
 "nbformat": 4,
 "nbformat_minor": 4
}
